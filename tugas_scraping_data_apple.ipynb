{
  "cells": [
    {
      "cell_type": "code",
      "execution_count": null,
      "id": "d51b921a",
      "metadata": {
        "colab": {
          "base_uri": "https://localhost:8080/"
        },
        "id": "d51b921a",
        "outputId": "266270b0-d8a7-4aba-af8e-9727da408791"
      },
      "outputs": [
        {
          "output_type": "stream",
          "name": "stdout",
          "text": [
            "Looking in indexes: https://pypi.org/simple, https://us-python.pkg.dev/colab-wheels/public/simple/\n",
            "Collecting bs4\n",
            "  Downloading bs4-0.0.1.tar.gz (1.1 kB)\n",
            "  Preparing metadata (setup.py) ... \u001b[?25l\u001b[?25hdone\n",
            "Requirement already satisfied: beautifulsoup4 in /usr/local/lib/python3.10/dist-packages (from bs4) (4.11.2)\n",
            "Requirement already satisfied: soupsieve>1.2 in /usr/local/lib/python3.10/dist-packages (from beautifulsoup4->bs4) (2.4.1)\n",
            "Building wheels for collected packages: bs4\n",
            "  Building wheel for bs4 (setup.py) ... \u001b[?25l\u001b[?25hdone\n",
            "  Created wheel for bs4: filename=bs4-0.0.1-py3-none-any.whl size=1257 sha256=c73f569af9c81bcde64116127437ce90bc8778616e4c4918952588e80e4cc079\n",
            "  Stored in directory: /root/.cache/pip/wheels/25/42/45/b773edc52acb16cd2db4cf1a0b47117e2f69bb4eb300ed0e70\n",
            "Successfully built bs4\n",
            "Installing collected packages: bs4\n",
            "Successfully installed bs4-0.0.1\n"
          ]
        }
      ],
      "source": [
        "!pip install bs4"
      ]
    },
    {
      "cell_type": "code",
      "execution_count": null,
      "id": "60c98b42",
      "metadata": {
        "id": "60c98b42"
      },
      "outputs": [],
      "source": [
        "from bs4 import BeautifulSoup\n",
        "import requests\n",
        "import pandas as pd\n",
        "import pandas as pd"
      ]
    },
    {
      "cell_type": "code",
      "execution_count": null,
      "id": "d0a14ff7",
      "metadata": {
        "id": "d0a14ff7"
      },
      "outputs": [],
      "source": [
        "page = requests.get('https://carisinyal.com/harga-hp-iphone/')"
      ]
    },
    {
      "cell_type": "code",
      "execution_count": null,
      "id": "a5b3e5cd",
      "metadata": {
        "id": "a5b3e5cd"
      },
      "outputs": [],
      "source": [
        "soup = BeautifulSoup(page.content ,'html.parser')"
      ]
    },
    {
      "cell_type": "code",
      "execution_count": null,
      "id": "bc5b262b",
      "metadata": {
        "colab": {
          "base_uri": "https://localhost:8080/",
          "height": 35
        },
        "id": "bc5b262b",
        "outputId": "5cd405ff-82fd-41d5-a9bc-6d0e0aaf3a38"
      },
      "outputs": [
        {
          "output_type": "execute_result",
          "data": {
            "text/plain": [
              "'Apple iPad Pro 12.9 (2022)'"
            ],
            "application/vnd.google.colaboratory.intrinsic+json": {
              "type": "string"
            }
          },
          "metadata": {},
          "execution_count": 8
        }
      ],
      "source": [
        "soup.find('a', class_='oxy-post-title').text"
      ]
    },
    {
      "cell_type": "code",
      "execution_count": null,
      "id": "243a4c85",
      "metadata": {
        "colab": {
          "base_uri": "https://localhost:8080/",
          "height": 35
        },
        "id": "243a4c85",
        "outputId": "eff58326-412d-4449-d0b2-b2aadc250aa4"
      },
      "outputs": [
        {
          "output_type": "execute_result",
          "data": {
            "text/plain": [
              "'Rp 25.999.000 (8/128 GB)'"
            ],
            "application/vnd.google.colaboratory.intrinsic+json": {
              "type": "string"
            }
          },
          "metadata": {},
          "execution_count": 9
        }
      ],
      "source": [
        "soup.find('div', class_='bx-harga').text"
      ]
    },
    {
      "cell_type": "code",
      "execution_count": null,
      "id": "c2049795",
      "metadata": {
        "id": "c2049795"
      },
      "outputs": [],
      "source": [
        "merek_apple = soup.find_all('a', class_='oxy-post-title')                                                       "
      ]
    },
    {
      "cell_type": "code",
      "execution_count": null,
      "id": "e8c5d14d",
      "metadata": {
        "colab": {
          "base_uri": "https://localhost:8080/"
        },
        "id": "e8c5d14d",
        "outputId": "f215daf2-15f4-44e6-fa30-bcef95ce3540"
      },
      "outputs": [
        {
          "output_type": "execute_result",
          "data": {
            "text/plain": [
              "[<a class=\"oxy-post-title\" href=\"https://carisinyal.com/hp/apple-ipad-pro-12-9-2022/\">Apple iPad Pro 12.9 (2022)</a>,\n",
              " <a class=\"oxy-post-title\" href=\"https://carisinyal.com/hp/apple-ipad-pro-11-2022/\">Apple iPad Pro 11 (2022)</a>,\n",
              " <a class=\"oxy-post-title\" href=\"https://carisinyal.com/hp/apple-ipad-2022/\">Apple iPad (2022)</a>,\n",
              " <a class=\"oxy-post-title\" href=\"https://carisinyal.com/hp/apple-iphone-14-pro/\">Apple iPhone 14 Pro</a>,\n",
              " <a class=\"oxy-post-title\" href=\"https://carisinyal.com/hp/apple-iphone-14-pro-max/\">Apple iPhone 14 Pro Max</a>,\n",
              " <a class=\"oxy-post-title\" href=\"https://carisinyal.com/hp/apple-iphone-14-plus/\">Apple iPhone 14 Plus</a>,\n",
              " <a class=\"oxy-post-title\" href=\"https://carisinyal.com/hp/apple-iphone-14/\">Apple iPhone 14</a>,\n",
              " <a class=\"oxy-post-title\" href=\"https://carisinyal.com/hp/apple-ipad-air-2022/\">Apple iPad Air (2022)</a>,\n",
              " <a class=\"oxy-post-title\" href=\"https://carisinyal.com/hp/apple-iphone-se-2022/\">Apple iPhone SE (2022)</a>,\n",
              " <a class=\"oxy-post-title\" href=\"https://carisinyal.com/hp/apple-iphone-11/\">Apple iPhone 11</a>,\n",
              " <a class=\"oxy-post-title\" href=\"https://carisinyal.com/hp/apple-iphone-12/\">Apple iPhone 12</a>,\n",
              " <a class=\"oxy-post-title\" href=\"https://carisinyal.com/hp/apple-ipad-10-2-2021/\">Apple iPad 10.2 (2021)</a>,\n",
              " <a class=\"oxy-post-title\" href=\"https://carisinyal.com/hp/apple-iphone-13/\">Apple iPhone 13</a>,\n",
              " <a class=\"oxy-post-title\" href=\"https://carisinyal.com/hp/apple-iphone-13-pro/\">Apple iPhone 13 Pro</a>,\n",
              " <a class=\"oxy-post-title\" href=\"https://carisinyal.com/hp/apple-iphone-13-pro-max/\">Apple iPhone 13 Pro Max</a>]"
            ]
          },
          "metadata": {},
          "execution_count": 11
        }
      ],
      "source": [
        "merek_apple"
      ]
    },
    {
      "cell_type": "code",
      "execution_count": null,
      "id": "Wos0t6LZp14p",
      "metadata": {
        "id": "Wos0t6LZp14p"
      },
      "outputs": [],
      "source": [
        "harga_apple = soup.find_all('div', class_='bx-harga')    "
      ]
    },
    {
      "cell_type": "code",
      "execution_count": null,
      "id": "b63da67d",
      "metadata": {
        "colab": {
          "base_uri": "https://localhost:8080/"
        },
        "id": "b63da67d",
        "outputId": "ef7b0b99-8748-4c7e-8644-f6936cddda71"
      },
      "outputs": [
        {
          "output_type": "stream",
          "name": "stdout",
          "text": [
            "Apple iPad Pro 12.9 (2022)\n",
            "Apple iPad Pro 11 (2022)\n",
            "Apple iPad (2022)\n",
            "Apple iPhone 14 Pro\n",
            "Apple iPhone 14 Pro Max\n",
            "Apple iPhone 14 Plus\n",
            "Apple iPhone 14\n",
            "Apple iPad Air (2022)\n",
            "Apple iPhone SE (2022)\n",
            "Apple iPhone 11\n",
            "Apple iPhone 12\n",
            "Apple iPad 10.2 (2021)\n",
            "Apple iPhone 13\n",
            "Apple iPhone 13 Pro\n",
            "Apple iPhone 13 Pro Max\n"
          ]
        }
      ],
      "source": [
        "for each_merek_apple in merek_apple :\n",
        "    print (each_merek_apple.text)"
      ]
    },
    {
      "cell_type": "code",
      "execution_count": null,
      "id": "o4hf5JZIqcMr",
      "metadata": {
        "colab": {
          "base_uri": "https://localhost:8080/"
        },
        "id": "o4hf5JZIqcMr",
        "outputId": "f6da85d1-2274-4083-87bd-70e0fb0c726a"
      },
      "outputs": [
        {
          "output_type": "stream",
          "name": "stdout",
          "text": [
            "Rp 25.999.000 (8/128 GB)\n",
            "Rp 14.999.000 (8/128 GB)\n",
            "Rp 11.499.000 (4/64 GB)\n",
            "Rp 17.999.000 (6/128 GB)\n",
            "Rp 19.799.000 (6/128 GB)\n",
            "Rp 15.999.000 (6/128 GB)\n",
            "Rp 13.999.000 (6/128 GB)\n",
            "Rp 9.499.000 (4/64 GB)\n",
            "Rp 9.499.000 (4/128 GB)\n",
            "Rp 7.499.000 (4/64 GB)\n",
            "Rp 10.659.000 (4/64 GB)\n",
            "Rp 4.999.000 (3/64 GB)\n",
            "Rp 12.499.000 (4/128 GB)\n",
            "Rp 16.999.000 (4/128 GB)\n",
            "Rp 20.499.000 (6/256 GB)\n"
          ]
        }
      ],
      "source": [
        "for each_harga_apple in harga_apple :\n",
        "    print (each_harga_apple.text)"
      ]
    },
    {
      "cell_type": "code",
      "execution_count": null,
      "id": "253f9920",
      "metadata": {
        "id": "253f9920"
      },
      "outputs": [],
      "source": [
        "data_nama = []\n",
        "for each_merek_apple in merek_apple:\n",
        "    data_nama.append(each_merek_apple.text)"
      ]
    },
    {
      "cell_type": "code",
      "execution_count": null,
      "id": "6b3a0ca0",
      "metadata": {
        "colab": {
          "base_uri": "https://localhost:8080/"
        },
        "id": "6b3a0ca0",
        "outputId": "30989f18-2fda-4bcd-d95e-7f0df7b77df0"
      },
      "outputs": [
        {
          "output_type": "execute_result",
          "data": {
            "text/plain": [
              "['Apple iPad Pro 12.9 (2022)',\n",
              " 'Apple iPad Pro 11 (2022)',\n",
              " 'Apple iPad (2022)',\n",
              " 'Apple iPhone 14 Pro',\n",
              " 'Apple iPhone 14 Pro Max',\n",
              " 'Apple iPhone 14 Plus',\n",
              " 'Apple iPhone 14',\n",
              " 'Apple iPad Air (2022)',\n",
              " 'Apple iPhone SE (2022)',\n",
              " 'Apple iPhone 11',\n",
              " 'Apple iPhone 12',\n",
              " 'Apple iPad 10.2 (2021)',\n",
              " 'Apple iPhone 13',\n",
              " 'Apple iPhone 13 Pro',\n",
              " 'Apple iPhone 13 Pro Max']"
            ]
          },
          "metadata": {},
          "execution_count": 16
        }
      ],
      "source": [
        "data_nama"
      ]
    },
    {
      "cell_type": "code",
      "execution_count": null,
      "id": "pybhiiwYrANM",
      "metadata": {
        "id": "pybhiiwYrANM"
      },
      "outputs": [],
      "source": [
        "data_harga = []\n",
        "for each_harga_apple in harga_apple:\n",
        "    data_harga.append(each_harga_apple.text)"
      ]
    },
    {
      "cell_type": "code",
      "execution_count": null,
      "id": "s22peN-arJWi",
      "metadata": {
        "colab": {
          "base_uri": "https://localhost:8080/"
        },
        "id": "s22peN-arJWi",
        "outputId": "e72ebb75-470a-475d-f184-491ad8c93f9b"
      },
      "outputs": [
        {
          "output_type": "execute_result",
          "data": {
            "text/plain": [
              "['Rp 25.999.000 (8/128 GB)',\n",
              " 'Rp 14.999.000 (8/128 GB)',\n",
              " 'Rp 11.499.000 (4/64 GB)',\n",
              " 'Rp 17.999.000 (6/128 GB)',\n",
              " 'Rp 19.799.000 (6/128 GB)',\n",
              " 'Rp 15.999.000 (6/128 GB)',\n",
              " 'Rp 13.999.000 (6/128 GB)',\n",
              " 'Rp 9.499.000 (4/64 GB)',\n",
              " 'Rp 9.499.000 (4/128 GB)',\n",
              " 'Rp 7.499.000 (4/64 GB)',\n",
              " 'Rp 10.659.000 (4/64 GB)',\n",
              " 'Rp 4.999.000 (3/64 GB)',\n",
              " 'Rp 12.499.000 (4/128 GB)',\n",
              " 'Rp 16.999.000 (4/128 GB)',\n",
              " 'Rp 20.499.000 (6/256 GB)']"
            ]
          },
          "metadata": {},
          "execution_count": 18
        }
      ],
      "source": [
        "data_harga"
      ]
    },
    {
      "cell_type": "code",
      "execution_count": null,
      "id": "9b1c495d",
      "metadata": {
        "id": "9b1c495d"
      },
      "outputs": [],
      "source": [
        "data = {\n",
        "    'nama apple': data_nama,\n",
        "    'harga apple ': data_harga,\n",
        "}"
      ]
    },
    {
      "cell_type": "code",
      "execution_count": null,
      "id": "a51ccd05",
      "metadata": {
        "id": "a51ccd05"
      },
      "outputs": [],
      "source": [
        "df = pd.DataFrame(data)"
      ]
    },
    {
      "cell_type": "code",
      "execution_count": null,
      "id": "74f390cd",
      "metadata": {
        "colab": {
          "base_uri": "https://localhost:8080/",
          "height": 520
        },
        "id": "74f390cd",
        "outputId": "8686bd54-221c-4929-cca6-6fe840e0fc14"
      },
      "outputs": [
        {
          "output_type": "execute_result",
          "data": {
            "text/plain": [
              "                    nama apple              harga apple \n",
              "0   Apple iPad Pro 12.9 (2022)  Rp 25.999.000 (8/128 GB)\n",
              "1     Apple iPad Pro 11 (2022)  Rp 14.999.000 (8/128 GB)\n",
              "2            Apple iPad (2022)   Rp 11.499.000 (4/64 GB)\n",
              "3          Apple iPhone 14 Pro  Rp 17.999.000 (6/128 GB)\n",
              "4      Apple iPhone 14 Pro Max  Rp 19.799.000 (6/128 GB)\n",
              "5         Apple iPhone 14 Plus  Rp 15.999.000 (6/128 GB)\n",
              "6              Apple iPhone 14  Rp 13.999.000 (6/128 GB)\n",
              "7        Apple iPad Air (2022)    Rp 9.499.000 (4/64 GB)\n",
              "8       Apple iPhone SE (2022)   Rp 9.499.000 (4/128 GB)\n",
              "9              Apple iPhone 11    Rp 7.499.000 (4/64 GB)\n",
              "10             Apple iPhone 12   Rp 10.659.000 (4/64 GB)\n",
              "11      Apple iPad 10.2 (2021)    Rp 4.999.000 (3/64 GB)\n",
              "12             Apple iPhone 13  Rp 12.499.000 (4/128 GB)\n",
              "13         Apple iPhone 13 Pro  Rp 16.999.000 (4/128 GB)\n",
              "14     Apple iPhone 13 Pro Max  Rp 20.499.000 (6/256 GB)"
            ],
            "text/html": [
              "\n",
              "  <div id=\"df-353821ce-5a9c-49e4-ae5c-2a7e9b8a5bae\">\n",
              "    <div class=\"colab-df-container\">\n",
              "      <div>\n",
              "<style scoped>\n",
              "    .dataframe tbody tr th:only-of-type {\n",
              "        vertical-align: middle;\n",
              "    }\n",
              "\n",
              "    .dataframe tbody tr th {\n",
              "        vertical-align: top;\n",
              "    }\n",
              "\n",
              "    .dataframe thead th {\n",
              "        text-align: right;\n",
              "    }\n",
              "</style>\n",
              "<table border=\"1\" class=\"dataframe\">\n",
              "  <thead>\n",
              "    <tr style=\"text-align: right;\">\n",
              "      <th></th>\n",
              "      <th>nama apple</th>\n",
              "      <th>harga apple</th>\n",
              "    </tr>\n",
              "  </thead>\n",
              "  <tbody>\n",
              "    <tr>\n",
              "      <th>0</th>\n",
              "      <td>Apple iPad Pro 12.9 (2022)</td>\n",
              "      <td>Rp 25.999.000 (8/128 GB)</td>\n",
              "    </tr>\n",
              "    <tr>\n",
              "      <th>1</th>\n",
              "      <td>Apple iPad Pro 11 (2022)</td>\n",
              "      <td>Rp 14.999.000 (8/128 GB)</td>\n",
              "    </tr>\n",
              "    <tr>\n",
              "      <th>2</th>\n",
              "      <td>Apple iPad (2022)</td>\n",
              "      <td>Rp 11.499.000 (4/64 GB)</td>\n",
              "    </tr>\n",
              "    <tr>\n",
              "      <th>3</th>\n",
              "      <td>Apple iPhone 14 Pro</td>\n",
              "      <td>Rp 17.999.000 (6/128 GB)</td>\n",
              "    </tr>\n",
              "    <tr>\n",
              "      <th>4</th>\n",
              "      <td>Apple iPhone 14 Pro Max</td>\n",
              "      <td>Rp 19.799.000 (6/128 GB)</td>\n",
              "    </tr>\n",
              "    <tr>\n",
              "      <th>5</th>\n",
              "      <td>Apple iPhone 14 Plus</td>\n",
              "      <td>Rp 15.999.000 (6/128 GB)</td>\n",
              "    </tr>\n",
              "    <tr>\n",
              "      <th>6</th>\n",
              "      <td>Apple iPhone 14</td>\n",
              "      <td>Rp 13.999.000 (6/128 GB)</td>\n",
              "    </tr>\n",
              "    <tr>\n",
              "      <th>7</th>\n",
              "      <td>Apple iPad Air (2022)</td>\n",
              "      <td>Rp 9.499.000 (4/64 GB)</td>\n",
              "    </tr>\n",
              "    <tr>\n",
              "      <th>8</th>\n",
              "      <td>Apple iPhone SE (2022)</td>\n",
              "      <td>Rp 9.499.000 (4/128 GB)</td>\n",
              "    </tr>\n",
              "    <tr>\n",
              "      <th>9</th>\n",
              "      <td>Apple iPhone 11</td>\n",
              "      <td>Rp 7.499.000 (4/64 GB)</td>\n",
              "    </tr>\n",
              "    <tr>\n",
              "      <th>10</th>\n",
              "      <td>Apple iPhone 12</td>\n",
              "      <td>Rp 10.659.000 (4/64 GB)</td>\n",
              "    </tr>\n",
              "    <tr>\n",
              "      <th>11</th>\n",
              "      <td>Apple iPad 10.2 (2021)</td>\n",
              "      <td>Rp 4.999.000 (3/64 GB)</td>\n",
              "    </tr>\n",
              "    <tr>\n",
              "      <th>12</th>\n",
              "      <td>Apple iPhone 13</td>\n",
              "      <td>Rp 12.499.000 (4/128 GB)</td>\n",
              "    </tr>\n",
              "    <tr>\n",
              "      <th>13</th>\n",
              "      <td>Apple iPhone 13 Pro</td>\n",
              "      <td>Rp 16.999.000 (4/128 GB)</td>\n",
              "    </tr>\n",
              "    <tr>\n",
              "      <th>14</th>\n",
              "      <td>Apple iPhone 13 Pro Max</td>\n",
              "      <td>Rp 20.499.000 (6/256 GB)</td>\n",
              "    </tr>\n",
              "  </tbody>\n",
              "</table>\n",
              "</div>\n",
              "      <button class=\"colab-df-convert\" onclick=\"convertToInteractive('df-353821ce-5a9c-49e4-ae5c-2a7e9b8a5bae')\"\n",
              "              title=\"Convert this dataframe to an interactive table.\"\n",
              "              style=\"display:none;\">\n",
              "        \n",
              "  <svg xmlns=\"http://www.w3.org/2000/svg\" height=\"24px\"viewBox=\"0 0 24 24\"\n",
              "       width=\"24px\">\n",
              "    <path d=\"M0 0h24v24H0V0z\" fill=\"none\"/>\n",
              "    <path d=\"M18.56 5.44l.94 2.06.94-2.06 2.06-.94-2.06-.94-.94-2.06-.94 2.06-2.06.94zm-11 1L8.5 8.5l.94-2.06 2.06-.94-2.06-.94L8.5 2.5l-.94 2.06-2.06.94zm10 10l.94 2.06.94-2.06 2.06-.94-2.06-.94-.94-2.06-.94 2.06-2.06.94z\"/><path d=\"M17.41 7.96l-1.37-1.37c-.4-.4-.92-.59-1.43-.59-.52 0-1.04.2-1.43.59L10.3 9.45l-7.72 7.72c-.78.78-.78 2.05 0 2.83L4 21.41c.39.39.9.59 1.41.59.51 0 1.02-.2 1.41-.59l7.78-7.78 2.81-2.81c.8-.78.8-2.07 0-2.86zM5.41 20L4 18.59l7.72-7.72 1.47 1.35L5.41 20z\"/>\n",
              "  </svg>\n",
              "      </button>\n",
              "      \n",
              "  <style>\n",
              "    .colab-df-container {\n",
              "      display:flex;\n",
              "      flex-wrap:wrap;\n",
              "      gap: 12px;\n",
              "    }\n",
              "\n",
              "    .colab-df-convert {\n",
              "      background-color: #E8F0FE;\n",
              "      border: none;\n",
              "      border-radius: 50%;\n",
              "      cursor: pointer;\n",
              "      display: none;\n",
              "      fill: #1967D2;\n",
              "      height: 32px;\n",
              "      padding: 0 0 0 0;\n",
              "      width: 32px;\n",
              "    }\n",
              "\n",
              "    .colab-df-convert:hover {\n",
              "      background-color: #E2EBFA;\n",
              "      box-shadow: 0px 1px 2px rgba(60, 64, 67, 0.3), 0px 1px 3px 1px rgba(60, 64, 67, 0.15);\n",
              "      fill: #174EA6;\n",
              "    }\n",
              "\n",
              "    [theme=dark] .colab-df-convert {\n",
              "      background-color: #3B4455;\n",
              "      fill: #D2E3FC;\n",
              "    }\n",
              "\n",
              "    [theme=dark] .colab-df-convert:hover {\n",
              "      background-color: #434B5C;\n",
              "      box-shadow: 0px 1px 3px 1px rgba(0, 0, 0, 0.15);\n",
              "      filter: drop-shadow(0px 1px 2px rgba(0, 0, 0, 0.3));\n",
              "      fill: #FFFFFF;\n",
              "    }\n",
              "  </style>\n",
              "\n",
              "      <script>\n",
              "        const buttonEl =\n",
              "          document.querySelector('#df-353821ce-5a9c-49e4-ae5c-2a7e9b8a5bae button.colab-df-convert');\n",
              "        buttonEl.style.display =\n",
              "          google.colab.kernel.accessAllowed ? 'block' : 'none';\n",
              "\n",
              "        async function convertToInteractive(key) {\n",
              "          const element = document.querySelector('#df-353821ce-5a9c-49e4-ae5c-2a7e9b8a5bae');\n",
              "          const dataTable =\n",
              "            await google.colab.kernel.invokeFunction('convertToInteractive',\n",
              "                                                     [key], {});\n",
              "          if (!dataTable) return;\n",
              "\n",
              "          const docLinkHtml = 'Like what you see? Visit the ' +\n",
              "            '<a target=\"_blank\" href=https://colab.research.google.com/notebooks/data_table.ipynb>data table notebook</a>'\n",
              "            + ' to learn more about interactive tables.';\n",
              "          element.innerHTML = '';\n",
              "          dataTable['output_type'] = 'display_data';\n",
              "          await google.colab.output.renderOutput(dataTable, element);\n",
              "          const docLink = document.createElement('div');\n",
              "          docLink.innerHTML = docLinkHtml;\n",
              "          element.appendChild(docLink);\n",
              "        }\n",
              "      </script>\n",
              "    </div>\n",
              "  </div>\n",
              "  "
            ]
          },
          "metadata": {},
          "execution_count": 21
        }
      ],
      "source": [
        "df"
      ]
    },
    {
      "cell_type": "code",
      "execution_count": null,
      "id": "99b53cab",
      "metadata": {
        "id": "99b53cab"
      },
      "outputs": [],
      "source": [
        "import pandas as pd\n"
      ]
    },
    {
      "cell_type": "code",
      "execution_count": null,
      "id": "48a3d208",
      "metadata": {
        "colab": {
          "base_uri": "https://localhost:8080/",
          "height": 520
        },
        "id": "48a3d208",
        "outputId": "25007aa5-bff0-4ced-803e-30c3a5677a1a"
      },
      "outputs": [
        {
          "output_type": "execute_result",
          "data": {
            "text/plain": [
              "                    nama apple              harga apple \n",
              "0   Apple iPad Pro 12.9 (2022)  Rp 25.999.000 (8/128 GB)\n",
              "1     Apple iPad Pro 11 (2022)  Rp 14.999.000 (8/128 GB)\n",
              "2            Apple iPad (2022)   Rp 11.499.000 (4/64 GB)\n",
              "3          Apple iPhone 14 Pro  Rp 17.999.000 (6/128 GB)\n",
              "4      Apple iPhone 14 Pro Max  Rp 19.799.000 (6/128 GB)\n",
              "5         Apple iPhone 14 Plus  Rp 15.999.000 (6/128 GB)\n",
              "6              Apple iPhone 14  Rp 13.999.000 (6/128 GB)\n",
              "7        Apple iPad Air (2022)    Rp 9.499.000 (4/64 GB)\n",
              "8       Apple iPhone SE (2022)   Rp 9.499.000 (4/128 GB)\n",
              "9              Apple iPhone 11    Rp 7.499.000 (4/64 GB)\n",
              "10             Apple iPhone 12   Rp 10.659.000 (4/64 GB)\n",
              "11      Apple iPad 10.2 (2021)    Rp 4.999.000 (3/64 GB)\n",
              "12             Apple iPhone 13  Rp 12.499.000 (4/128 GB)\n",
              "13         Apple iPhone 13 Pro  Rp 16.999.000 (4/128 GB)\n",
              "14     Apple iPhone 13 Pro Max  Rp 20.499.000 (6/256 GB)"
            ],
            "text/html": [
              "\n",
              "  <div id=\"df-9199b2a2-e40b-4434-8c7d-76ae7780f929\">\n",
              "    <div class=\"colab-df-container\">\n",
              "      <div>\n",
              "<style scoped>\n",
              "    .dataframe tbody tr th:only-of-type {\n",
              "        vertical-align: middle;\n",
              "    }\n",
              "\n",
              "    .dataframe tbody tr th {\n",
              "        vertical-align: top;\n",
              "    }\n",
              "\n",
              "    .dataframe thead th {\n",
              "        text-align: right;\n",
              "    }\n",
              "</style>\n",
              "<table border=\"1\" class=\"dataframe\">\n",
              "  <thead>\n",
              "    <tr style=\"text-align: right;\">\n",
              "      <th></th>\n",
              "      <th>nama apple</th>\n",
              "      <th>harga apple</th>\n",
              "    </tr>\n",
              "  </thead>\n",
              "  <tbody>\n",
              "    <tr>\n",
              "      <th>0</th>\n",
              "      <td>Apple iPad Pro 12.9 (2022)</td>\n",
              "      <td>Rp 25.999.000 (8/128 GB)</td>\n",
              "    </tr>\n",
              "    <tr>\n",
              "      <th>1</th>\n",
              "      <td>Apple iPad Pro 11 (2022)</td>\n",
              "      <td>Rp 14.999.000 (8/128 GB)</td>\n",
              "    </tr>\n",
              "    <tr>\n",
              "      <th>2</th>\n",
              "      <td>Apple iPad (2022)</td>\n",
              "      <td>Rp 11.499.000 (4/64 GB)</td>\n",
              "    </tr>\n",
              "    <tr>\n",
              "      <th>3</th>\n",
              "      <td>Apple iPhone 14 Pro</td>\n",
              "      <td>Rp 17.999.000 (6/128 GB)</td>\n",
              "    </tr>\n",
              "    <tr>\n",
              "      <th>4</th>\n",
              "      <td>Apple iPhone 14 Pro Max</td>\n",
              "      <td>Rp 19.799.000 (6/128 GB)</td>\n",
              "    </tr>\n",
              "    <tr>\n",
              "      <th>5</th>\n",
              "      <td>Apple iPhone 14 Plus</td>\n",
              "      <td>Rp 15.999.000 (6/128 GB)</td>\n",
              "    </tr>\n",
              "    <tr>\n",
              "      <th>6</th>\n",
              "      <td>Apple iPhone 14</td>\n",
              "      <td>Rp 13.999.000 (6/128 GB)</td>\n",
              "    </tr>\n",
              "    <tr>\n",
              "      <th>7</th>\n",
              "      <td>Apple iPad Air (2022)</td>\n",
              "      <td>Rp 9.499.000 (4/64 GB)</td>\n",
              "    </tr>\n",
              "    <tr>\n",
              "      <th>8</th>\n",
              "      <td>Apple iPhone SE (2022)</td>\n",
              "      <td>Rp 9.499.000 (4/128 GB)</td>\n",
              "    </tr>\n",
              "    <tr>\n",
              "      <th>9</th>\n",
              "      <td>Apple iPhone 11</td>\n",
              "      <td>Rp 7.499.000 (4/64 GB)</td>\n",
              "    </tr>\n",
              "    <tr>\n",
              "      <th>10</th>\n",
              "      <td>Apple iPhone 12</td>\n",
              "      <td>Rp 10.659.000 (4/64 GB)</td>\n",
              "    </tr>\n",
              "    <tr>\n",
              "      <th>11</th>\n",
              "      <td>Apple iPad 10.2 (2021)</td>\n",
              "      <td>Rp 4.999.000 (3/64 GB)</td>\n",
              "    </tr>\n",
              "    <tr>\n",
              "      <th>12</th>\n",
              "      <td>Apple iPhone 13</td>\n",
              "      <td>Rp 12.499.000 (4/128 GB)</td>\n",
              "    </tr>\n",
              "    <tr>\n",
              "      <th>13</th>\n",
              "      <td>Apple iPhone 13 Pro</td>\n",
              "      <td>Rp 16.999.000 (4/128 GB)</td>\n",
              "    </tr>\n",
              "    <tr>\n",
              "      <th>14</th>\n",
              "      <td>Apple iPhone 13 Pro Max</td>\n",
              "      <td>Rp 20.499.000 (6/256 GB)</td>\n",
              "    </tr>\n",
              "  </tbody>\n",
              "</table>\n",
              "</div>\n",
              "      <button class=\"colab-df-convert\" onclick=\"convertToInteractive('df-9199b2a2-e40b-4434-8c7d-76ae7780f929')\"\n",
              "              title=\"Convert this dataframe to an interactive table.\"\n",
              "              style=\"display:none;\">\n",
              "        \n",
              "  <svg xmlns=\"http://www.w3.org/2000/svg\" height=\"24px\"viewBox=\"0 0 24 24\"\n",
              "       width=\"24px\">\n",
              "    <path d=\"M0 0h24v24H0V0z\" fill=\"none\"/>\n",
              "    <path d=\"M18.56 5.44l.94 2.06.94-2.06 2.06-.94-2.06-.94-.94-2.06-.94 2.06-2.06.94zm-11 1L8.5 8.5l.94-2.06 2.06-.94-2.06-.94L8.5 2.5l-.94 2.06-2.06.94zm10 10l.94 2.06.94-2.06 2.06-.94-2.06-.94-.94-2.06-.94 2.06-2.06.94z\"/><path d=\"M17.41 7.96l-1.37-1.37c-.4-.4-.92-.59-1.43-.59-.52 0-1.04.2-1.43.59L10.3 9.45l-7.72 7.72c-.78.78-.78 2.05 0 2.83L4 21.41c.39.39.9.59 1.41.59.51 0 1.02-.2 1.41-.59l7.78-7.78 2.81-2.81c.8-.78.8-2.07 0-2.86zM5.41 20L4 18.59l7.72-7.72 1.47 1.35L5.41 20z\"/>\n",
              "  </svg>\n",
              "      </button>\n",
              "      \n",
              "  <style>\n",
              "    .colab-df-container {\n",
              "      display:flex;\n",
              "      flex-wrap:wrap;\n",
              "      gap: 12px;\n",
              "    }\n",
              "\n",
              "    .colab-df-convert {\n",
              "      background-color: #E8F0FE;\n",
              "      border: none;\n",
              "      border-radius: 50%;\n",
              "      cursor: pointer;\n",
              "      display: none;\n",
              "      fill: #1967D2;\n",
              "      height: 32px;\n",
              "      padding: 0 0 0 0;\n",
              "      width: 32px;\n",
              "    }\n",
              "\n",
              "    .colab-df-convert:hover {\n",
              "      background-color: #E2EBFA;\n",
              "      box-shadow: 0px 1px 2px rgba(60, 64, 67, 0.3), 0px 1px 3px 1px rgba(60, 64, 67, 0.15);\n",
              "      fill: #174EA6;\n",
              "    }\n",
              "\n",
              "    [theme=dark] .colab-df-convert {\n",
              "      background-color: #3B4455;\n",
              "      fill: #D2E3FC;\n",
              "    }\n",
              "\n",
              "    [theme=dark] .colab-df-convert:hover {\n",
              "      background-color: #434B5C;\n",
              "      box-shadow: 0px 1px 3px 1px rgba(0, 0, 0, 0.15);\n",
              "      filter: drop-shadow(0px 1px 2px rgba(0, 0, 0, 0.3));\n",
              "      fill: #FFFFFF;\n",
              "    }\n",
              "  </style>\n",
              "\n",
              "      <script>\n",
              "        const buttonEl =\n",
              "          document.querySelector('#df-9199b2a2-e40b-4434-8c7d-76ae7780f929 button.colab-df-convert');\n",
              "        buttonEl.style.display =\n",
              "          google.colab.kernel.accessAllowed ? 'block' : 'none';\n",
              "\n",
              "        async function convertToInteractive(key) {\n",
              "          const element = document.querySelector('#df-9199b2a2-e40b-4434-8c7d-76ae7780f929');\n",
              "          const dataTable =\n",
              "            await google.colab.kernel.invokeFunction('convertToInteractive',\n",
              "                                                     [key], {});\n",
              "          if (!dataTable) return;\n",
              "\n",
              "          const docLinkHtml = 'Like what you see? Visit the ' +\n",
              "            '<a target=\"_blank\" href=https://colab.research.google.com/notebooks/data_table.ipynb>data table notebook</a>'\n",
              "            + ' to learn more about interactive tables.';\n",
              "          element.innerHTML = '';\n",
              "          dataTable['output_type'] = 'display_data';\n",
              "          await google.colab.output.renderOutput(dataTable, element);\n",
              "          const docLink = document.createElement('div');\n",
              "          docLink.innerHTML = docLinkHtml;\n",
              "          element.appendChild(docLink);\n",
              "        }\n",
              "      </script>\n",
              "    </div>\n",
              "  </div>\n",
              "  "
            ]
          },
          "metadata": {},
          "execution_count": 23
        }
      ],
      "source": [
        "df.to_csv('data_pabrik.csv', index=False)\n",
        "df = pd.read_csv('data_pabrik.csv')\n",
        "df"
      ]
    },
    {
      "cell_type": "code",
      "source": [
        "df.to_excel(\"data_pabrik.xlsx\", index=False)\n",
        "df = pd.read_excel('data_pabrik.xlsx')\n",
        "df"
      ],
      "metadata": {
        "id": "ibH0e2ISzy_o",
        "colab": {
          "base_uri": "https://localhost:8080/",
          "height": 462
        },
        "outputId": "86be78e1-be01-4e2d-d5fb-52a824e8332c"
      },
      "id": "ibH0e2ISzy_o",
      "execution_count": 26,
      "outputs": [
        {
          "output_type": "execute_result",
          "data": {
            "text/plain": [
              "                    nama apple              harga apple \n",
              "0   Apple iPad Pro 12.9 (2022)  Rp 25.999.000 (8/128 GB)\n",
              "1     Apple iPad Pro 11 (2022)  Rp 14.999.000 (8/128 GB)\n",
              "2            Apple iPad (2022)   Rp 11.499.000 (4/64 GB)\n",
              "3          Apple iPhone 14 Pro  Rp 17.999.000 (6/128 GB)\n",
              "4      Apple iPhone 14 Pro Max  Rp 19.799.000 (6/128 GB)\n",
              "5         Apple iPhone 14 Plus  Rp 15.999.000 (6/128 GB)\n",
              "6              Apple iPhone 14  Rp 13.999.000 (6/128 GB)\n",
              "7        Apple iPad Air (2022)    Rp 9.499.000 (4/64 GB)\n",
              "8       Apple iPhone SE (2022)   Rp 9.499.000 (4/128 GB)\n",
              "9              Apple iPhone 11    Rp 7.499.000 (4/64 GB)\n",
              "10             Apple iPhone 12   Rp 10.659.000 (4/64 GB)\n",
              "11      Apple iPad 10.2 (2021)    Rp 4.999.000 (3/64 GB)\n",
              "12             Apple iPhone 13  Rp 12.499.000 (4/128 GB)\n",
              "13         Apple iPhone 13 Pro  Rp 16.999.000 (4/128 GB)\n",
              "14     Apple iPhone 13 Pro Max  Rp 20.499.000 (6/256 GB)"
            ],
            "text/html": [
              "\n",
              "  <div id=\"df-45f31170-3e2a-44ce-a9da-c4109a537228\">\n",
              "    <div class=\"colab-df-container\">\n",
              "      <div>\n",
              "<style scoped>\n",
              "    .dataframe tbody tr th:only-of-type {\n",
              "        vertical-align: middle;\n",
              "    }\n",
              "\n",
              "    .dataframe tbody tr th {\n",
              "        vertical-align: top;\n",
              "    }\n",
              "\n",
              "    .dataframe thead th {\n",
              "        text-align: right;\n",
              "    }\n",
              "</style>\n",
              "<table border=\"1\" class=\"dataframe\">\n",
              "  <thead>\n",
              "    <tr style=\"text-align: right;\">\n",
              "      <th></th>\n",
              "      <th>nama apple</th>\n",
              "      <th>harga apple</th>\n",
              "    </tr>\n",
              "  </thead>\n",
              "  <tbody>\n",
              "    <tr>\n",
              "      <th>0</th>\n",
              "      <td>Apple iPad Pro 12.9 (2022)</td>\n",
              "      <td>Rp 25.999.000 (8/128 GB)</td>\n",
              "    </tr>\n",
              "    <tr>\n",
              "      <th>1</th>\n",
              "      <td>Apple iPad Pro 11 (2022)</td>\n",
              "      <td>Rp 14.999.000 (8/128 GB)</td>\n",
              "    </tr>\n",
              "    <tr>\n",
              "      <th>2</th>\n",
              "      <td>Apple iPad (2022)</td>\n",
              "      <td>Rp 11.499.000 (4/64 GB)</td>\n",
              "    </tr>\n",
              "    <tr>\n",
              "      <th>3</th>\n",
              "      <td>Apple iPhone 14 Pro</td>\n",
              "      <td>Rp 17.999.000 (6/128 GB)</td>\n",
              "    </tr>\n",
              "    <tr>\n",
              "      <th>4</th>\n",
              "      <td>Apple iPhone 14 Pro Max</td>\n",
              "      <td>Rp 19.799.000 (6/128 GB)</td>\n",
              "    </tr>\n",
              "    <tr>\n",
              "      <th>5</th>\n",
              "      <td>Apple iPhone 14 Plus</td>\n",
              "      <td>Rp 15.999.000 (6/128 GB)</td>\n",
              "    </tr>\n",
              "    <tr>\n",
              "      <th>6</th>\n",
              "      <td>Apple iPhone 14</td>\n",
              "      <td>Rp 13.999.000 (6/128 GB)</td>\n",
              "    </tr>\n",
              "    <tr>\n",
              "      <th>7</th>\n",
              "      <td>Apple iPad Air (2022)</td>\n",
              "      <td>Rp 9.499.000 (4/64 GB)</td>\n",
              "    </tr>\n",
              "    <tr>\n",
              "      <th>8</th>\n",
              "      <td>Apple iPhone SE (2022)</td>\n",
              "      <td>Rp 9.499.000 (4/128 GB)</td>\n",
              "    </tr>\n",
              "    <tr>\n",
              "      <th>9</th>\n",
              "      <td>Apple iPhone 11</td>\n",
              "      <td>Rp 7.499.000 (4/64 GB)</td>\n",
              "    </tr>\n",
              "    <tr>\n",
              "      <th>10</th>\n",
              "      <td>Apple iPhone 12</td>\n",
              "      <td>Rp 10.659.000 (4/64 GB)</td>\n",
              "    </tr>\n",
              "    <tr>\n",
              "      <th>11</th>\n",
              "      <td>Apple iPad 10.2 (2021)</td>\n",
              "      <td>Rp 4.999.000 (3/64 GB)</td>\n",
              "    </tr>\n",
              "    <tr>\n",
              "      <th>12</th>\n",
              "      <td>Apple iPhone 13</td>\n",
              "      <td>Rp 12.499.000 (4/128 GB)</td>\n",
              "    </tr>\n",
              "    <tr>\n",
              "      <th>13</th>\n",
              "      <td>Apple iPhone 13 Pro</td>\n",
              "      <td>Rp 16.999.000 (4/128 GB)</td>\n",
              "    </tr>\n",
              "    <tr>\n",
              "      <th>14</th>\n",
              "      <td>Apple iPhone 13 Pro Max</td>\n",
              "      <td>Rp 20.499.000 (6/256 GB)</td>\n",
              "    </tr>\n",
              "  </tbody>\n",
              "</table>\n",
              "</div>\n",
              "      <button class=\"colab-df-convert\" onclick=\"convertToInteractive('df-45f31170-3e2a-44ce-a9da-c4109a537228')\"\n",
              "              title=\"Convert this dataframe to an interactive table.\"\n",
              "              style=\"display:none;\">\n",
              "        \n",
              "  <svg xmlns=\"http://www.w3.org/2000/svg\" height=\"24px\"viewBox=\"0 0 24 24\"\n",
              "       width=\"24px\">\n",
              "    <path d=\"M0 0h24v24H0V0z\" fill=\"none\"/>\n",
              "    <path d=\"M18.56 5.44l.94 2.06.94-2.06 2.06-.94-2.06-.94-.94-2.06-.94 2.06-2.06.94zm-11 1L8.5 8.5l.94-2.06 2.06-.94-2.06-.94L8.5 2.5l-.94 2.06-2.06.94zm10 10l.94 2.06.94-2.06 2.06-.94-2.06-.94-.94-2.06-.94 2.06-2.06.94z\"/><path d=\"M17.41 7.96l-1.37-1.37c-.4-.4-.92-.59-1.43-.59-.52 0-1.04.2-1.43.59L10.3 9.45l-7.72 7.72c-.78.78-.78 2.05 0 2.83L4 21.41c.39.39.9.59 1.41.59.51 0 1.02-.2 1.41-.59l7.78-7.78 2.81-2.81c.8-.78.8-2.07 0-2.86zM5.41 20L4 18.59l7.72-7.72 1.47 1.35L5.41 20z\"/>\n",
              "  </svg>\n",
              "      </button>\n",
              "      \n",
              "  <style>\n",
              "    .colab-df-container {\n",
              "      display:flex;\n",
              "      flex-wrap:wrap;\n",
              "      gap: 12px;\n",
              "    }\n",
              "\n",
              "    .colab-df-convert {\n",
              "      background-color: #E8F0FE;\n",
              "      border: none;\n",
              "      border-radius: 50%;\n",
              "      cursor: pointer;\n",
              "      display: none;\n",
              "      fill: #1967D2;\n",
              "      height: 32px;\n",
              "      padding: 0 0 0 0;\n",
              "      width: 32px;\n",
              "    }\n",
              "\n",
              "    .colab-df-convert:hover {\n",
              "      background-color: #E2EBFA;\n",
              "      box-shadow: 0px 1px 2px rgba(60, 64, 67, 0.3), 0px 1px 3px 1px rgba(60, 64, 67, 0.15);\n",
              "      fill: #174EA6;\n",
              "    }\n",
              "\n",
              "    [theme=dark] .colab-df-convert {\n",
              "      background-color: #3B4455;\n",
              "      fill: #D2E3FC;\n",
              "    }\n",
              "\n",
              "    [theme=dark] .colab-df-convert:hover {\n",
              "      background-color: #434B5C;\n",
              "      box-shadow: 0px 1px 3px 1px rgba(0, 0, 0, 0.15);\n",
              "      filter: drop-shadow(0px 1px 2px rgba(0, 0, 0, 0.3));\n",
              "      fill: #FFFFFF;\n",
              "    }\n",
              "  </style>\n",
              "\n",
              "      <script>\n",
              "        const buttonEl =\n",
              "          document.querySelector('#df-45f31170-3e2a-44ce-a9da-c4109a537228 button.colab-df-convert');\n",
              "        buttonEl.style.display =\n",
              "          google.colab.kernel.accessAllowed ? 'block' : 'none';\n",
              "\n",
              "        async function convertToInteractive(key) {\n",
              "          const element = document.querySelector('#df-45f31170-3e2a-44ce-a9da-c4109a537228');\n",
              "          const dataTable =\n",
              "            await google.colab.kernel.invokeFunction('convertToInteractive',\n",
              "                                                     [key], {});\n",
              "          if (!dataTable) return;\n",
              "\n",
              "          const docLinkHtml = 'Like what you see? Visit the ' +\n",
              "            '<a target=\"_blank\" href=https://colab.research.google.com/notebooks/data_table.ipynb>data table notebook</a>'\n",
              "            + ' to learn more about interactive tables.';\n",
              "          element.innerHTML = '';\n",
              "          dataTable['output_type'] = 'display_data';\n",
              "          await google.colab.output.renderOutput(dataTable, element);\n",
              "          const docLink = document.createElement('div');\n",
              "          docLink.innerHTML = docLinkHtml;\n",
              "          element.appendChild(docLink);\n",
              "        }\n",
              "      </script>\n",
              "    </div>\n",
              "  </div>\n",
              "  "
            ]
          },
          "metadata": {},
          "execution_count": 26
        }
      ]
    }
  ],
  "metadata": {
    "colab": {
      "provenance": []
    },
    "kernelspec": {
      "display_name": "Python 3 (ipykernel)",
      "language": "python",
      "name": "python3"
    },
    "language_info": {
      "codemirror_mode": {
        "name": "ipython",
        "version": 3
      },
      "file_extension": ".py",
      "mimetype": "text/x-python",
      "name": "python",
      "nbconvert_exporter": "python",
      "pygments_lexer": "ipython3",
      "version": "3.9.12"
    }
  },
  "nbformat": 4,
  "nbformat_minor": 5
}